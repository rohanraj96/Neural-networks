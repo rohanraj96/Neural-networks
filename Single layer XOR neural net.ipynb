{
 "cells": [
  {
   "cell_type": "code",
   "execution_count": 66,
   "metadata": {
    "collapsed": true
   },
   "outputs": [],
   "source": [
    "import numpy as np"
   ]
  },
  {
   "cell_type": "code",
   "execution_count": 67,
   "metadata": {
    "collapsed": true
   },
   "outputs": [],
   "source": [
    "def nonlin(x,deriv=False):\n",
    "    \n",
    "    # Derivative of the non-linearity or not   \n",
    "\n",
    "    if(deriv==True):\n",
    "        return (x*(1-x))\n",
    "    \n",
    "    return 1/(1+np.exp(-x))"
   ]
  },
  {
   "cell_type": "code",
   "execution_count": 68,
   "metadata": {
    "collapsed": false
   },
   "outputs": [],
   "source": [
    "# Input data\n",
    "\n",
    "X = np.array([[0,0,1], # Last column is the bias unit. There are 2 inputs and 1 bias\n",
    "             [0,1,1],\n",
    "             [1,0,1],\n",
    "             [1,1,1]])\n",
    "\n",
    "# Output data\n",
    "\n",
    "y = np.array([[0],\n",
    "            [1],\n",
    "            [1],\n",
    "            [0]])"
   ]
  },
  {
   "cell_type": "code",
   "execution_count": 69,
   "metadata": {
    "collapsed": true
   },
   "outputs": [],
   "source": [
    "# Random seed to duplicate results\n",
    "\n",
    "np.random.seed(1)"
   ]
  },
  {
   "cell_type": "code",
   "execution_count": 70,
   "metadata": {
    "collapsed": false
   },
   "outputs": [],
   "source": [
    "# Initialising weights\n",
    "\n",
    "theta_0 = 2*np.random.random((3,4))-1\n",
    "theta_1 = 2*np.random.random((4,1))-1"
   ]
  },
  {
   "cell_type": "code",
   "execution_count": 71,
   "metadata": {
    "collapsed": false
   },
   "outputs": [
    {
     "name": "stdout",
     "output_type": "stream",
     "text": [
      "Error = 0.496410031903\n",
      "Error = 0.00858452565325\n",
      "Error = 0.00578945986251\n",
      "Error = 0.00462917677677\n",
      "Error = 0.00395876528027\n",
      "Error = 0.00351012256786\n",
      "Error = 0.00318350238587\n",
      "Error = 0.00293230634228\n",
      "Error = 0.00273150641821\n",
      "Error = 0.00256631724004\n"
     ]
    }
   ],
   "source": [
    "# Training\n",
    "\n",
    "for i in range(100000):\n",
    "    \n",
    "    # Forward pass\n",
    "\n",
    "    l0 = X\n",
    "    l1 = nonlin(np.dot(l0,theta_0))\n",
    "    l2 = nonlin(np.dot(l1,theta_1))\n",
    "\n",
    "    # Backpropagation\n",
    "    \n",
    "    l2_error = y - l2\n",
    "    if(i%10000==0):\n",
    "        print(\"Error = \" + str(np.mean(np.abs(l2_error))))\n",
    "        \n",
    "    l2_delta = l2_error*nonlin(l2,deriv=True)\n",
    "    l1_error = l2_delta.dot(theta_1.T)\n",
    "    l1_delta = l1_error*nonlin(l1,deriv=True)\n",
    "    \n",
    "    # Update weights\n",
    "    \n",
    "    theta_1 += l1.T.dot(l2_delta)\n",
    "    theta_0 += l0.T.dot(l1_delta)"
   ]
  },
  {
   "cell_type": "code",
   "execution_count": 73,
   "metadata": {
    "collapsed": false
   },
   "outputs": [
    {
     "name": "stdout",
     "output_type": "stream",
     "text": [
      "Output = \n",
      "[[ 0.00199094]\n",
      " [ 0.99751458]\n",
      " [ 0.99771098]\n",
      " [ 0.00294418]]\n"
     ]
    }
   ],
   "source": [
    "print(\"Output = \")\n",
    "print(l2)"
   ]
  },
  {
   "cell_type": "code",
   "execution_count": null,
   "metadata": {
    "collapsed": true
   },
   "outputs": [],
   "source": []
  },
  {
   "cell_type": "code",
   "execution_count": null,
   "metadata": {
    "collapsed": true
   },
   "outputs": [],
   "source": []
  },
  {
   "cell_type": "code",
   "execution_count": null,
   "metadata": {
    "collapsed": true
   },
   "outputs": [],
   "source": []
  },
  {
   "cell_type": "code",
   "execution_count": null,
   "metadata": {
    "collapsed": true
   },
   "outputs": [],
   "source": []
  },
  {
   "cell_type": "code",
   "execution_count": null,
   "metadata": {
    "collapsed": true
   },
   "outputs": [],
   "source": []
  },
  {
   "cell_type": "code",
   "execution_count": null,
   "metadata": {
    "collapsed": true
   },
   "outputs": [],
   "source": []
  }
 ],
 "metadata": {
  "kernelspec": {
   "display_name": "Python [Root]",
   "language": "python",
   "name": "Python [Root]"
  },
  "language_info": {
   "codemirror_mode": {
    "name": "ipython",
    "version": 3
   },
   "file_extension": ".py",
   "mimetype": "text/x-python",
   "name": "python",
   "nbconvert_exporter": "python",
   "pygments_lexer": "ipython3",
   "version": "3.5.1"
  }
 },
 "nbformat": 4,
 "nbformat_minor": 0
}
